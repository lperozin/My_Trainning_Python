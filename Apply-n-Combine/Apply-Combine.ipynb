{
 "cells": [
  {
   "cell_type": "markdown",
   "metadata": {},
   "source": [
    "# Apply 'n Combine"
   ]
  },
  {
   "cell_type": "code",
   "execution_count": 1,
   "metadata": {},
   "outputs": [],
   "source": [
    "#Importing libraries\n",
    "import pandas as pd\n",
    "import numpy as np"
   ]
  },
  {
   "cell_type": "code",
   "execution_count": 2,
   "metadata": {},
   "outputs": [],
   "source": [
    "#loading into a dataframe using pandas\n",
    "data = pd.read_csv('file.csv',encoding='utf-8',sep=\";\")\n"
   ]
  },
  {
   "cell_type": "code",
   "execution_count": 3,
   "metadata": {},
   "outputs": [
    {
     "data": {
      "text/plain": [
       "329"
      ]
     },
     "execution_count": 3,
     "metadata": {},
     "output_type": "execute_result"
    }
   ],
   "source": [
    "#exploring the dataframe\n",
    "data['Year_Month'].count()"
   ]
  },
  {
   "cell_type": "code",
   "execution_count": 4,
   "metadata": {},
   "outputs": [
    {
     "data": {
      "text/html": [
       "<div>\n",
       "<style scoped>\n",
       "    .dataframe tbody tr th:only-of-type {\n",
       "        vertical-align: middle;\n",
       "    }\n",
       "\n",
       "    .dataframe tbody tr th {\n",
       "        vertical-align: top;\n",
       "    }\n",
       "\n",
       "    .dataframe thead th {\n",
       "        text-align: right;\n",
       "    }\n",
       "</style>\n",
       "<table border=\"1\" class=\"dataframe\">\n",
       "  <thead>\n",
       "    <tr style=\"text-align: right;\">\n",
       "      <th></th>\n",
       "      <th>Year_Month</th>\n",
       "      <th>BusinessUnit_ID</th>\n",
       "      <th>VL</th>\n",
       "    </tr>\n",
       "  </thead>\n",
       "  <tbody>\n",
       "    <tr>\n",
       "      <th>0</th>\n",
       "      <td>2010/06</td>\n",
       "      <td>2</td>\n",
       "      <td>8562.500</td>\n",
       "    </tr>\n",
       "    <tr>\n",
       "      <th>1</th>\n",
       "      <td>2010/06</td>\n",
       "      <td>7</td>\n",
       "      <td>1632.500</td>\n",
       "    </tr>\n",
       "    <tr>\n",
       "      <th>2</th>\n",
       "      <td>2010/07</td>\n",
       "      <td>7</td>\n",
       "      <td>0.000</td>\n",
       "    </tr>\n",
       "    <tr>\n",
       "      <th>3</th>\n",
       "      <td>2010/07</td>\n",
       "      <td>2</td>\n",
       "      <td>1153650.225</td>\n",
       "    </tr>\n",
       "    <tr>\n",
       "      <th>4</th>\n",
       "      <td>2010/07</td>\n",
       "      <td>3</td>\n",
       "      <td>38434.250</td>\n",
       "    </tr>\n",
       "    <tr>\n",
       "      <th>5</th>\n",
       "      <td>2010/08</td>\n",
       "      <td>2</td>\n",
       "      <td>4633221.225</td>\n",
       "    </tr>\n",
       "    <tr>\n",
       "      <th>6</th>\n",
       "      <td>2010/08</td>\n",
       "      <td>3</td>\n",
       "      <td>258313.650</td>\n",
       "    </tr>\n",
       "    <tr>\n",
       "      <th>7</th>\n",
       "      <td>2010/08</td>\n",
       "      <td>7</td>\n",
       "      <td>85.000</td>\n",
       "    </tr>\n",
       "    <tr>\n",
       "      <th>8</th>\n",
       "      <td>2010/09</td>\n",
       "      <td>4</td>\n",
       "      <td>2882661.250</td>\n",
       "    </tr>\n",
       "    <tr>\n",
       "      <th>9</th>\n",
       "      <td>2010/09</td>\n",
       "      <td>7</td>\n",
       "      <td>6695.000</td>\n",
       "    </tr>\n",
       "  </tbody>\n",
       "</table>\n",
       "</div>"
      ],
      "text/plain": [
       "  Year_Month  BusinessUnit_ID           VL\n",
       "0    2010/06                2     8562.500\n",
       "1    2010/06                7     1632.500\n",
       "2    2010/07                7        0.000\n",
       "3    2010/07                2  1153650.225\n",
       "4    2010/07                3    38434.250\n",
       "5    2010/08                2  4633221.225\n",
       "6    2010/08                3   258313.650\n",
       "7    2010/08                7       85.000\n",
       "8    2010/09                4  2882661.250\n",
       "9    2010/09                7     6695.000"
      ]
     },
     "execution_count": 4,
     "metadata": {},
     "output_type": "execute_result"
    }
   ],
   "source": [
    "#reading top 10 rows\n",
    "data.head(10)"
   ]
  },
  {
   "cell_type": "code",
   "execution_count": 19,
   "metadata": {},
   "outputs": [],
   "source": [
    "taxe = lambda x: x*0.1"
   ]
  },
  {
   "cell_type": "code",
   "execution_count": 20,
   "metadata": {},
   "outputs": [],
   "source": [
    "#apply a function along any axis of the dataframe\n",
    "\n",
    "data_taxes = data['VL'].apply(taxe)"
   ]
  },
  {
   "cell_type": "code",
   "execution_count": 21,
   "metadata": {},
   "outputs": [
    {
     "data": {
      "text/plain": [
       "0       856.2500\n",
       "1       163.2500\n",
       "2         0.0000\n",
       "3    115365.0225\n",
       "4      3843.4250\n",
       "5    463322.1225\n",
       "6     25831.3650\n",
       "7         8.5000\n",
       "8    288266.1250\n",
       "9       669.5000\n",
       "Name: VL, dtype: float64"
      ]
     },
     "execution_count": 21,
     "metadata": {},
     "output_type": "execute_result"
    }
   ],
   "source": [
    "#check some rows\n",
    "data_taxes.head(10)"
   ]
  },
  {
   "cell_type": "code",
   "execution_count": 22,
   "metadata": {},
   "outputs": [],
   "source": [
    "#Append new column\n",
    "data['taxe']=data_taxes"
   ]
  },
  {
   "cell_type": "code",
   "execution_count": 23,
   "metadata": {},
   "outputs": [
    {
     "data": {
      "text/html": [
       "<div>\n",
       "<style scoped>\n",
       "    .dataframe tbody tr th:only-of-type {\n",
       "        vertical-align: middle;\n",
       "    }\n",
       "\n",
       "    .dataframe tbody tr th {\n",
       "        vertical-align: top;\n",
       "    }\n",
       "\n",
       "    .dataframe thead th {\n",
       "        text-align: right;\n",
       "    }\n",
       "</style>\n",
       "<table border=\"1\" class=\"dataframe\">\n",
       "  <thead>\n",
       "    <tr style=\"text-align: right;\">\n",
       "      <th></th>\n",
       "      <th>Year_Month</th>\n",
       "      <th>BusinessUnit_ID</th>\n",
       "      <th>VL</th>\n",
       "      <th>taxe</th>\n",
       "    </tr>\n",
       "  </thead>\n",
       "  <tbody>\n",
       "    <tr>\n",
       "      <th>0</th>\n",
       "      <td>2010/06</td>\n",
       "      <td>2</td>\n",
       "      <td>8562.500</td>\n",
       "      <td>856.2500</td>\n",
       "    </tr>\n",
       "    <tr>\n",
       "      <th>1</th>\n",
       "      <td>2010/06</td>\n",
       "      <td>7</td>\n",
       "      <td>1632.500</td>\n",
       "      <td>163.2500</td>\n",
       "    </tr>\n",
       "    <tr>\n",
       "      <th>2</th>\n",
       "      <td>2010/07</td>\n",
       "      <td>7</td>\n",
       "      <td>0.000</td>\n",
       "      <td>0.0000</td>\n",
       "    </tr>\n",
       "    <tr>\n",
       "      <th>3</th>\n",
       "      <td>2010/07</td>\n",
       "      <td>2</td>\n",
       "      <td>1153650.225</td>\n",
       "      <td>115365.0225</td>\n",
       "    </tr>\n",
       "    <tr>\n",
       "      <th>4</th>\n",
       "      <td>2010/07</td>\n",
       "      <td>3</td>\n",
       "      <td>38434.250</td>\n",
       "      <td>3843.4250</td>\n",
       "    </tr>\n",
       "    <tr>\n",
       "      <th>5</th>\n",
       "      <td>2010/08</td>\n",
       "      <td>2</td>\n",
       "      <td>4633221.225</td>\n",
       "      <td>463322.1225</td>\n",
       "    </tr>\n",
       "    <tr>\n",
       "      <th>6</th>\n",
       "      <td>2010/08</td>\n",
       "      <td>3</td>\n",
       "      <td>258313.650</td>\n",
       "      <td>25831.3650</td>\n",
       "    </tr>\n",
       "    <tr>\n",
       "      <th>7</th>\n",
       "      <td>2010/08</td>\n",
       "      <td>7</td>\n",
       "      <td>85.000</td>\n",
       "      <td>8.5000</td>\n",
       "    </tr>\n",
       "    <tr>\n",
       "      <th>8</th>\n",
       "      <td>2010/09</td>\n",
       "      <td>4</td>\n",
       "      <td>2882661.250</td>\n",
       "      <td>288266.1250</td>\n",
       "    </tr>\n",
       "    <tr>\n",
       "      <th>9</th>\n",
       "      <td>2010/09</td>\n",
       "      <td>7</td>\n",
       "      <td>6695.000</td>\n",
       "      <td>669.5000</td>\n",
       "    </tr>\n",
       "  </tbody>\n",
       "</table>\n",
       "</div>"
      ],
      "text/plain": [
       "  Year_Month  BusinessUnit_ID           VL         taxe\n",
       "0    2010/06                2     8562.500     856.2500\n",
       "1    2010/06                7     1632.500     163.2500\n",
       "2    2010/07                7        0.000       0.0000\n",
       "3    2010/07                2  1153650.225  115365.0225\n",
       "4    2010/07                3    38434.250    3843.4250\n",
       "5    2010/08                2  4633221.225  463322.1225\n",
       "6    2010/08                3   258313.650   25831.3650\n",
       "7    2010/08                7       85.000       8.5000\n",
       "8    2010/09                4  2882661.250  288266.1250\n",
       "9    2010/09                7     6695.000     669.5000"
      ]
     },
     "execution_count": 23,
     "metadata": {},
     "output_type": "execute_result"
    }
   ],
   "source": [
    "#check new dataset\n",
    "data.head(10)\n"
   ]
  }
 ],
 "metadata": {
  "kernelspec": {
   "display_name": "Python 3",
   "language": "python",
   "name": "python3"
  },
  "language_info": {
   "codemirror_mode": {
    "name": "ipython",
    "version": 3
   },
   "file_extension": ".py",
   "mimetype": "text/x-python",
   "name": "python",
   "nbconvert_exporter": "python",
   "pygments_lexer": "ipython3",
   "version": "3.6.4"
  }
 },
 "nbformat": 4,
 "nbformat_minor": 2
}
